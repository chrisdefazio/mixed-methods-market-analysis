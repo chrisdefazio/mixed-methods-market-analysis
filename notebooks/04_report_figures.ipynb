{
  "cells": [
    {
      "cell_type": "markdown",
      "metadata": {},
      "source": [
        "# 04 - Report Figures\n",
        "\n",
        "Generate figures for the executive summary.\n"
      ]
    }
  ],
  "metadata": {
    "language_info": {
      "name": "python"
    }
  },
  "nbformat": 4,
  "nbformat_minor": 2
}
