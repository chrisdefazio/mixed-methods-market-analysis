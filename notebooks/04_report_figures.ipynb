{
  "cells": [
    {
      "cell_type": "code",
      "execution_count": null,
      "metadata": {},
      "outputs": [],
      "source": [
        "# Seed and Versions\n",
        "import sys\n",
        "import platform\n",
        "from importlib.metadata import version\n",
        "\n",
        "from src.utils import set_seed\n",
        "\n",
        "set_seed(42)\n",
        "print({\"python\": sys.version.split()[0], \"platform\": platform.platform(), \"matplotlib\": version(\"matplotlib\")})\n"
      ]
    },
    {
      "cell_type": "markdown",
      "metadata": {},
      "source": [
        "# 04 - Report Figures\n",
        "\n",
        "Generate figures for the executive summary.\n"
      ]
    },
    {
      "cell_type": "markdown",
      "metadata": {},
      "source": [
        "## Overview\n",
        "\n",
        "- Load `data/processed/merged.csv`\n",
        "- Create: (1) boxplot returns by sector, (2) returns vs sentiment bins, (3) PCA scatter\n",
        "- Save figures to `reports/figures/` with `src.plot.savefig` (dpi=150)\n"
      ]
    },
    {
      "cell_type": "markdown",
      "metadata": {},
      "source": [
        "## Imports and Data Load\n"
      ]
    },
    {
      "cell_type": "code",
      "execution_count": null,
      "metadata": {},
      "outputs": [],
      "source": [
        "from pathlib import Path\n",
        "\n",
        "import pandas as pd\n",
        "import matplotlib.pyplot as plt\n",
        "\n",
        "from src.utils import read_csv_safe, validate_columns\n",
        "from src.plot import savefig\n",
        "\n",
        "MERGED_PATH = Path(\"data/processed/merged.csv\")\n",
        "\n",
        "df = read_csv_safe(MERGED_PATH, parse_dates=[\"date\"]) if MERGED_PATH.exists() else pd.DataFrame()\n",
        "if not df.empty:\n",
        "    validate_columns(df, [\n",
        "        \"date\",\"ticker\",\"sector\",\"close\",\"volume\",\"volatility\",\"return\",\"sentiment_score\",\"n_headlines\"\n",
        "    ])\n",
        "\n",
        "# Prepare sentiment bins for figure 2\n",
        "if not df.empty and \"sentiment_score\" in df.columns:\n",
        "    def _bin(x: float) -> str:\n",
        "        if x <= -0.2:\n",
        "            return \"neg\"\n",
        "        if x >= 0.2:\n",
        "            return \"pos\"\n",
        "        return \"neu\"\n",
        "    df[\"sentiment_bin\"] = df[\"sentiment_score\"].apply(_bin)\n"
      ]
    },
    {
      "cell_type": "markdown",
      "metadata": {},
      "source": [
        "## Figure 1: Boxplot of Returns by Sector\n"
      ]
    },
    {
      "cell_type": "code",
      "execution_count": null,
      "metadata": {},
      "outputs": [],
      "source": [
        "# Structure only; plotting without execution\n",
        "if not df.empty:\n",
        "    fig1, ax1 = plt.subplots(figsize=(8, 5))\n",
        "    # df.boxplot(column=\"return\", by=\"sector\", ax=ax1, grid=False, rot=45)\n",
        "    ax1.set_title(\"Returns by Sector\")\n",
        "    ax1.set_xlabel(\"Sector\")\n",
        "    ax1.set_ylabel(\"Return\")\n",
        "    # savefig(\"figure_returns_by_sector.png\", fig=fig1, dpi=150)\n"
      ]
    },
    {
      "cell_type": "markdown",
      "metadata": {},
      "source": [
        "## Figure 2: Returns vs Sentiment Bins\n"
      ]
    },
    {
      "cell_type": "code",
      "execution_count": null,
      "metadata": {},
      "outputs": [],
      "source": [
        "if not df.empty and \"sentiment_bin\" in df.columns:\n",
        "    fig2, ax2 = plt.subplots(figsize=(8, 5))\n",
        "    # df.boxplot(column=\"return\", by=\"sentiment_bin\", ax=ax2, grid=False)\n",
        "    ax2.set_title(\"Returns vs Sentiment Bins\")\n",
        "    ax2.set_xlabel(\"Sentiment Bin\")\n",
        "    ax2.set_ylabel(\"Return\")\n",
        "    # savefig(\"figure_returns_vs_sentiment_bins.png\", fig=fig2, dpi=150)\n"
      ]
    },
    {
      "cell_type": "markdown",
      "metadata": {},
      "source": [
        "## Figure 3: PCA Scatter (2D)\n"
      ]
    },
    {
      "cell_type": "markdown",
      "metadata": {},
      "source": [
        "## Completed\n",
        "\n",
        "Figure specifications prepared. Saved outputs will appear in `reports/figures/` after execution.\n"
      ]
    },
    {
      "cell_type": "code",
      "execution_count": null,
      "metadata": {},
      "outputs": [],
      "source": [
        "from sklearn.decomposition import PCA\n",
        "from sklearn.preprocessing import StandardScaler\n",
        "\n",
        "if not df.empty:\n",
        "    feat_cols = [\"return\", \"volume\", \"volatility\", \"sentiment_score\", \"n_headlines\"]\n",
        "    X = df[feat_cols].dropna()\n",
        "    if not X.empty:\n",
        "        scaler = StandardScaler()\n",
        "        # X_scaled = scaler.fit_transform(X.values)\n",
        "        pca = PCA(n_components=2)\n",
        "        # comps = pca.fit_transform(X_scaled)\n",
        "        # fig3, ax3 = plt.subplots(figsize=(6, 5))\n",
        "        # ax3.scatter(comps[:, 0], comps[:, 1], s=8, alpha=0.6)\n",
        "        # ax3.set_title(\"PCA Scatter (2D)\")\n",
        "        # ax3.set_xlabel(\"PC1\")\n",
        "        # ax3.set_ylabel(\"PC2\")\n",
        "        # savefig(\"figure_pca_scatter.png\", fig=fig3, dpi=150)\n"
      ]
    },
    {
      "cell_type": "code",
      "execution_count": null,
      "metadata": {},
      "outputs": [],
      "source": []
    }
  ],
  "metadata": {
    "language_info": {
      "name": "python"
    }
  },
  "nbformat": 4,
  "nbformat_minor": 2
}
