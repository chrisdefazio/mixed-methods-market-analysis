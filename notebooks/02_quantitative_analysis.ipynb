{
  "cells": [
    {
      "cell_type": "markdown",
      "metadata": {},
      "source": [
        "# 02 - Quantitative Analysis\n",
        "\n",
        "Descriptives, ANOVA, OLS regression, PCA.\n"
      ]
    }
  ],
  "metadata": {
    "language_info": {
      "name": "python"
    }
  },
  "nbformat": 4,
  "nbformat_minor": 2
}
