{
  "cells": [
    {
      "cell_type": "markdown",
      "metadata": {},
      "source": [
        "# 02 - Quantitative Analysis\n",
        "\n",
        "Descriptives, ANOVA, OLS regression with HC3, PCA (structured, not executed)."
      ]
    },
    {
      "cell_type": "markdown",
      "metadata": {},
      "source": [
        "## Overview\n",
        "\n",
        "- Load `data/processed/merged.csv`\n",
        "- Descriptives: summary stats and simple distributions\n",
        "- One-way ANOVA across sectors (and optional by sentiment bin)\n",
        "- OLS: `return ~ sentiment_score + volume + volatility + C(sector)` with HC3 SEs\n",
        "- PCA: standardize features, variance explained, 2D scatter\n"
      ]
    },
    {
      "cell_type": "markdown",
      "metadata": {},
      "source": [
        "## Imports and Data Load\n"
      ]
    },
    {
      "cell_type": "code",
      "execution_count": null,
      "metadata": {},
      "outputs": [],
      "source": [
        "import pandas as pd\n",
        "import numpy as np\n",
        "\n",
        "from pathlib import Path\n",
        "\n",
        "from src.utils import read_csv_safe, validate_columns\n",
        "\n",
        "MERGED_PATH = Path(\"data/processed/merged.csv\")\n",
        "\n",
        "df = read_csv_safe(MERGED_PATH, parse_dates=[\"date\"]) if MERGED_PATH.exists() else pd.DataFrame()\n",
        "if not df.empty:\n",
        "    validate_columns(df, [\n",
        "        \"date\",\"ticker\",\"sector\",\"close\",\"volume\",\"volatility\",\"return\",\"sentiment_score\",\"n_headlines\"\n",
        "    ])\n"
      ]
    },
    {
      "cell_type": "markdown",
      "metadata": {},
      "source": [
        "## Descriptives\n"
      ]
    },
    {
      "cell_type": "code",
      "execution_count": null,
      "metadata": {},
      "outputs": [],
      "source": [
        "# Basic summary stats and distributions (to be executed later)\n",
        "if not df.empty:\n",
        "    numeric_cols = [\"close\", \"volume\", \"volatility\", \"return\", \"sentiment_score\", \"n_headlines\"]\n",
        "    desc = df[numeric_cols].describe()\n",
        "    display(desc)\n",
        "\n",
        "    # Simple distribution prep (counts per sector)\n",
        "    sector_counts = df[\"sector\"].value_counts().to_frame(name=\"count\").reset_index(names=\"sector\")\n"
      ]
    },
    {
      "cell_type": "markdown",
      "metadata": {},
      "source": [
        "## One-way ANOVA\n"
      ]
    },
    {
      "cell_type": "code",
      "execution_count": null,
      "metadata": {},
      "outputs": [],
      "source": [
        "# Prepare data for ANOVA: return by sector\n",
        "from scipy import stats\n",
        "\n",
        "anova_result = None\n",
        "if not df.empty:\n",
        "    groups = [g[\"return\"].dropna().values for _, g in df.groupby(\"sector\")]\n",
        "    if len(groups) >= 2 and all(len(g) > 1 for g in groups):\n",
        "        anova_result = stats.f_oneway(*groups)\n",
        "\n",
        "# Optional: by sentiment bin (prepare binning; execution later)\n",
        "def bin_sentiment(x: float) -> str:\n",
        "    if x <= -0.2:\n",
        "        return \"neg\"\n",
        "    if x >= 0.2:\n",
        "        return \"pos\"\n",
        "    return \"neu\"\n",
        "\n",
        "if not df.empty and \"sentiment_score\" in df.columns:\n",
        "    df[\"sentiment_bin\"] = df[\"sentiment_score\"].apply(bin_sentiment)\n"
      ]
    },
    {
      "cell_type": "markdown",
      "metadata": {},
      "source": [
        "## OLS Regression (HC3)\n"
      ]
    },
    {
      "cell_type": "code",
      "execution_count": null,
      "metadata": {},
      "outputs": [],
      "source": [
        "# Formula: return ~ sentiment_score + volume + volatility + C(sector)\n",
        "import statsmodels.formula.api as smf\n",
        "\n",
        "ols_results = None\n",
        "if not df.empty:\n",
        "    model = smf.ols(\n",
        "        formula=\"return ~ sentiment_score + volume + volatility + C(sector)\",\n",
        "        data=df.dropna(subset=[\"return\", \"sentiment_score\", \"volume\", \"volatility\", \"sector\"]),\n",
        "    )\n",
        "    # Do not fit now; structure for HC3 robust SEs:\n",
        "    # ols_results = model.fit(cov_type=\"HC3\")\n"
      ]
    },
    {
      "cell_type": "markdown",
      "metadata": {},
      "source": [
        "## PCA\n"
      ]
    },
    {
      "cell_type": "code",
      "execution_count": null,
      "metadata": {},
      "outputs": [],
      "source": [
        "# Standardize features and prepare PCA (no execution here)\n",
        "from sklearn.decomposition import PCA\n",
        "from sklearn.preprocessing import StandardScaler\n",
        "\n",
        "pca, scaler, pca_input = None, None, None\n",
        "if not df.empty:\n",
        "    feat_cols = [\"return\", \"volume\", \"volatility\", \"sentiment_score\", \"n_headlines\"]\n",
        "    X = df[feat_cols].dropna()\n",
        "    scaler = StandardScaler()\n",
        "    X_scaled = scaler.fit_transform(X.values)\n",
        "    pca = PCA(n_components=2)\n",
        "    # Do not fit now; structure only\n",
        "    # pca_components = pca.fit_transform(X_scaled)\n",
        "    # explained_var = pca.explained_variance_ratio_\n"
      ]
    }
  ],
  "metadata": {
    "language_info": {
      "name": "python"
    }
  },
  "nbformat": 4,
  "nbformat_minor": 2
}
