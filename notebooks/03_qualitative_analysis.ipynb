{
  "cells": [
    {
      "cell_type": "markdown",
      "metadata": {},
      "source": [
        "# 03 - Qualitative Analysis\n",
        "\n",
        "Term frequencies, lightweight NMF topic modeling, and a simple hand-coding rubric.\n"
      ]
    }
  ],
  "metadata": {
    "language_info": {
      "name": "python"
    }
  },
  "nbformat": 4,
  "nbformat_minor": 2
}
